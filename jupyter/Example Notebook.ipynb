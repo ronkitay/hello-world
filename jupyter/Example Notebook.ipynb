{
 "cells": [
  {
   "cell_type": "markdown",
   "id": "e2d9e68a",
   "metadata": {},
   "source": [
    "# Example Notebook"
   ]
  },
  {
   "cell_type": "code",
   "execution_count": 1,
   "id": "62a93599",
   "metadata": {},
   "outputs": [
    {
     "name": "stdout",
     "output_type": "stream",
     "text": [
      "19\n"
     ]
    }
   ],
   "source": [
    "some_num = 7\n",
    "some_other_num = 12\n",
    "print(some_num + some_other_num)"
   ]
  },
  {
   "cell_type": "markdown",
   "id": "adf36d34",
   "metadata": {},
   "source": [
    "## Defining A Function"
   ]
  },
  {
   "cell_type": "code",
   "execution_count": 2,
   "id": "d693bc8a",
   "metadata": {},
   "outputs": [],
   "source": [
    "def some_func(some_param):\n",
    "    print(f\"Got {some_param}!\")"
   ]
  },
  {
   "cell_type": "markdown",
   "id": "a269fd0b",
   "metadata": {},
   "source": [
    "## Calling A Function"
   ]
  },
  {
   "cell_type": "code",
   "execution_count": 3,
   "id": "13b4fd6d",
   "metadata": {},
   "outputs": [
    {
     "name": "stdout",
     "output_type": "stream",
     "text": [
      "Got test 123!\n"
     ]
    }
   ],
   "source": [
    "some_func(\"test 123\")"
   ]
  },
  {
   "cell_type": "code",
   "execution_count": null,
   "id": "d23781b1",
   "metadata": {},
   "outputs": [],
   "source": []
  }
 ],
 "metadata": {
  "kernelspec": {
   "display_name": "Python 3 (ipykernel)",
   "language": "python",
   "name": "python3"
  },
  "language_info": {
   "codemirror_mode": {
    "name": "ipython",
    "version": 3
   },
   "file_extension": ".py",
   "mimetype": "text/x-python",
   "name": "python",
   "nbconvert_exporter": "python",
   "pygments_lexer": "ipython3",
   "version": "3.10.10"
  }
 },
 "nbformat": 4,
 "nbformat_minor": 5
}
